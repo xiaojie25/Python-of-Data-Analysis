{
 "cells": [
  {
   "cell_type": "markdown",
   "id": "2e5865f4",
   "metadata": {},
   "source": [
    "## 3.1数据结构和序列"
   ]
  },
  {
   "cell_type": "markdown",
   "id": "c13b9de5",
   "metadata": {},
   "source": [
    "### 元组"
   ]
  },
  {
   "cell_type": "code",
   "execution_count": 1,
   "id": "fe80d30a",
   "metadata": {},
   "outputs": [],
   "source": [
    "tup = 4, 5, 6"
   ]
  },
  {
   "cell_type": "code",
   "execution_count": 2,
   "id": "bb1874ae",
   "metadata": {},
   "outputs": [
    {
     "data": {
      "text/plain": [
       "(4, 5, 6)"
      ]
     },
     "execution_count": 2,
     "metadata": {},
     "output_type": "execute_result"
    }
   ],
   "source": [
    "tup"
   ]
  },
  {
   "cell_type": "markdown",
   "id": "bc7249e8",
   "metadata": {},
   "source": [
    "#### 元组的元素是元组"
   ]
  },
  {
   "cell_type": "code",
   "execution_count": 3,
   "id": "e14e5566",
   "metadata": {},
   "outputs": [],
   "source": [
    "nested_tup = (4, 5, 6),(7, 8)"
   ]
  },
  {
   "cell_type": "code",
   "execution_count": 4,
   "id": "28c2e030",
   "metadata": {},
   "outputs": [
    {
     "data": {
      "text/plain": [
       "((4, 5, 6), (7, 8))"
      ]
     },
     "execution_count": 4,
     "metadata": {},
     "output_type": "execute_result"
    }
   ],
   "source": [
    "nested_tup"
   ]
  },
  {
   "cell_type": "markdown",
   "id": "84340802",
   "metadata": {},
   "source": [
    "#### tuple函数将任意序列或迭代器转换为元组"
   ]
  },
  {
   "cell_type": "code",
   "execution_count": 5,
   "id": "48967047",
   "metadata": {},
   "outputs": [
    {
     "data": {
      "text/plain": [
       "(4, 0, 2)"
      ]
     },
     "execution_count": 5,
     "metadata": {},
     "output_type": "execute_result"
    }
   ],
   "source": [
    "tuple([4, 0, 2])"
   ]
  },
  {
   "cell_type": "code",
   "execution_count": 6,
   "id": "06564cbb",
   "metadata": {},
   "outputs": [],
   "source": [
    "tup = tuple('string')"
   ]
  },
  {
   "cell_type": "code",
   "execution_count": 7,
   "id": "4e225e6c",
   "metadata": {},
   "outputs": [
    {
     "data": {
      "text/plain": [
       "('s', 't', 'r', 'i', 'n', 'g')"
      ]
     },
     "execution_count": 7,
     "metadata": {},
     "output_type": "execute_result"
    }
   ],
   "source": [
    "tup"
   ]
  },
  {
   "cell_type": "markdown",
   "id": "e7a5c0b0",
   "metadata": {},
   "source": [
    "#### 元组的拆包"
   ]
  },
  {
   "cell_type": "code",
   "execution_count": 8,
   "id": "240f20dc",
   "metadata": {},
   "outputs": [],
   "source": [
    "tup = 4, 5, 6"
   ]
  },
  {
   "cell_type": "code",
   "execution_count": 9,
   "id": "c2d19596",
   "metadata": {},
   "outputs": [],
   "source": [
    "a, b, c = tup"
   ]
  },
  {
   "cell_type": "code",
   "execution_count": 10,
   "id": "1f4b7bc4",
   "metadata": {},
   "outputs": [
    {
     "data": {
      "text/plain": [
       "5"
      ]
     },
     "execution_count": 10,
     "metadata": {},
     "output_type": "execute_result"
    }
   ],
   "source": [
    "b"
   ]
  },
  {
   "cell_type": "code",
   "execution_count": 11,
   "id": "eb785713",
   "metadata": {},
   "outputs": [],
   "source": [
    "tup = 4, 5, (6, 7)"
   ]
  },
  {
   "cell_type": "code",
   "execution_count": 12,
   "id": "7437a182",
   "metadata": {},
   "outputs": [],
   "source": [
    "a, b, (c, d) = tup"
   ]
  },
  {
   "cell_type": "code",
   "execution_count": 13,
   "id": "a71a1a3d",
   "metadata": {},
   "outputs": [
    {
     "data": {
      "text/plain": [
       "7"
      ]
     },
     "execution_count": 13,
     "metadata": {},
     "output_type": "execute_result"
    }
   ],
   "source": [
    "d"
   ]
  },
  {
   "cell_type": "markdown",
   "id": "71939896",
   "metadata": {},
   "source": [
    "#### tips:Python中交换方式"
   ]
  },
  {
   "cell_type": "code",
   "execution_count": 14,
   "id": "fbf3f79f",
   "metadata": {},
   "outputs": [],
   "source": [
    "a = 3"
   ]
  },
  {
   "cell_type": "code",
   "execution_count": 15,
   "id": "d6830aa8",
   "metadata": {},
   "outputs": [],
   "source": [
    "b = 4"
   ]
  },
  {
   "cell_type": "code",
   "execution_count": 16,
   "id": "723fbcfb",
   "metadata": {},
   "outputs": [],
   "source": [
    "a, b = b, a"
   ]
  },
  {
   "cell_type": "code",
   "execution_count": 17,
   "id": "7df23d02",
   "metadata": {},
   "outputs": [
    {
     "data": {
      "text/plain": [
       "4"
      ]
     },
     "execution_count": 17,
     "metadata": {},
     "output_type": "execute_result"
    }
   ],
   "source": [
    "a"
   ]
  },
  {
   "cell_type": "code",
   "execution_count": 18,
   "id": "d5fa4cc5",
   "metadata": {},
   "outputs": [
    {
     "data": {
      "text/plain": [
       "3"
      ]
     },
     "execution_count": 18,
     "metadata": {},
     "output_type": "execute_result"
    }
   ],
   "source": [
    "b"
   ]
  },
  {
   "cell_type": "markdown",
   "id": "cddb269e",
   "metadata": {},
   "source": [
    "#### 遍历元组或列表组成的成员"
   ]
  },
  {
   "cell_type": "code",
   "execution_count": 19,
   "id": "332e1c56",
   "metadata": {},
   "outputs": [],
   "source": [
    "seq = [(1, 2, 3),  (4, 5, 6), (7, 8, 9)]"
   ]
  },
  {
   "cell_type": "code",
   "execution_count": 20,
   "id": "74e68e96",
   "metadata": {},
   "outputs": [
    {
     "name": "stdout",
     "output_type": "stream",
     "text": [
      "a=1 b=2 c=3\n",
      "a=4 b=5 c=6\n",
      "a=7 b=8 c=9\n"
     ]
    }
   ],
   "source": [
    "for a, b, c in seq:\n",
    "    print(\"a={0} b={1} c={2}\".format(a, b, c))"
   ]
  },
  {
   "cell_type": "markdown",
   "id": "d848b501",
   "metadata": {},
   "source": [
    "#### Python特殊语法“*”"
   ]
  },
  {
   "cell_type": "code",
   "execution_count": 21,
   "id": "1e438612",
   "metadata": {},
   "outputs": [],
   "source": [
    "values = 1, 2, 3, 4, 5"
   ]
  },
  {
   "cell_type": "code",
   "execution_count": 22,
   "id": "b4b35b2a",
   "metadata": {},
   "outputs": [],
   "source": [
    "a, b, *rest = values"
   ]
  },
  {
   "cell_type": "code",
   "execution_count": 23,
   "id": "d849986a",
   "metadata": {},
   "outputs": [
    {
     "data": {
      "text/plain": [
       "(1, 2)"
      ]
     },
     "execution_count": 23,
     "metadata": {},
     "output_type": "execute_result"
    }
   ],
   "source": [
    "a, b"
   ]
  },
  {
   "cell_type": "code",
   "execution_count": 24,
   "id": "2e0ee7fd",
   "metadata": {},
   "outputs": [
    {
     "data": {
      "text/plain": [
       "[3, 4, 5]"
      ]
     },
     "execution_count": 24,
     "metadata": {},
     "output_type": "execute_result"
    }
   ],
   "source": [
    "rest"
   ]
  },
  {
   "cell_type": "code",
   "execution_count": 26,
   "id": "29753301",
   "metadata": {},
   "outputs": [],
   "source": [
    "a, b, *_ = values"
   ]
  },
  {
   "cell_type": "code",
   "execution_count": 27,
   "id": "f64fdc60",
   "metadata": {},
   "outputs": [
    {
     "data": {
      "text/plain": [
       "[3, 4, 5]"
      ]
     },
     "execution_count": 27,
     "metadata": {},
     "output_type": "execute_result"
    }
   ],
   "source": [
    "_"
   ]
  },
  {
   "cell_type": "markdown",
   "id": "2de23dd6",
   "metadata": {},
   "source": [
    "#### 使用append方法可以将元素添加到列表的尾部"
   ]
  },
  {
   "cell_type": "code",
   "execution_count": 1,
   "id": "7c452582",
   "metadata": {},
   "outputs": [],
   "source": [
    "b_list = ['foo', 'peekaboo', 'baz']"
   ]
  },
  {
   "cell_type": "code",
   "execution_count": 2,
   "id": "0fe9b418",
   "metadata": {},
   "outputs": [],
   "source": [
    "b_list.append('dwarf')"
   ]
  },
  {
   "cell_type": "code",
   "execution_count": 3,
   "id": "67390c8f",
   "metadata": {},
   "outputs": [
    {
     "data": {
      "text/plain": [
       "['foo', 'peekaboo', 'baz', 'dwarf']"
      ]
     },
     "execution_count": 3,
     "metadata": {},
     "output_type": "execute_result"
    }
   ],
   "source": [
    "b_list"
   ]
  },
  {
   "cell_type": "markdown",
   "id": "c3876a37",
   "metadata": {},
   "source": [
    "#### 使用insert方法可以将元素插入到指定的位置"
   ]
  },
  {
   "cell_type": "code",
   "execution_count": 4,
   "id": "48a3fe22",
   "metadata": {},
   "outputs": [],
   "source": [
    "b_list.insert(1, 'red')"
   ]
  },
  {
   "cell_type": "code",
   "execution_count": 5,
   "id": "1c7c25bc",
   "metadata": {},
   "outputs": [
    {
     "data": {
      "text/plain": [
       "['foo', 'red', 'peekaboo', 'baz', 'dwarf']"
      ]
     },
     "execution_count": 5,
     "metadata": {},
     "output_type": "execute_result"
    }
   ],
   "source": [
    "b_list"
   ]
  },
  {
   "cell_type": "markdown",
   "id": "ce5f52a9",
   "metadata": {},
   "source": [
    "#### insert的反操作是pop，该操作会将特定位置的元素移除并返回"
   ]
  },
  {
   "cell_type": "code",
   "execution_count": 6,
   "id": "9cd425f1",
   "metadata": {},
   "outputs": [
    {
     "data": {
      "text/plain": [
       "'peekaboo'"
      ]
     },
     "execution_count": 6,
     "metadata": {},
     "output_type": "execute_result"
    }
   ],
   "source": [
    "b_list.pop(2)"
   ]
  },
  {
   "cell_type": "code",
   "execution_count": 7,
   "id": "4394f58b",
   "metadata": {},
   "outputs": [
    {
     "data": {
      "text/plain": [
       "['foo', 'red', 'baz', 'dwarf']"
      ]
     },
     "execution_count": 7,
     "metadata": {},
     "output_type": "execute_result"
    }
   ],
   "source": [
    "b_list"
   ]
  },
  {
   "cell_type": "markdown",
   "id": "ae301485",
   "metadata": {},
   "source": [
    "#### extend方法向该列表添加多个元素"
   ]
  },
  {
   "cell_type": "code",
   "execution_count": 8,
   "id": "c167fb3a",
   "metadata": {},
   "outputs": [],
   "source": [
    "x = [4, None, 'foo']"
   ]
  },
  {
   "cell_type": "code",
   "execution_count": 9,
   "id": "a61f90b9",
   "metadata": {},
   "outputs": [],
   "source": [
    "x.extend([7, 8, (2, 3)])"
   ]
  },
  {
   "cell_type": "code",
   "execution_count": 10,
   "id": "ef4975f6",
   "metadata": {},
   "outputs": [
    {
     "data": {
      "text/plain": [
       "[4, None, 'foo', 7, 8, (2, 3)]"
      ]
     },
     "execution_count": 10,
     "metadata": {},
     "output_type": "execute_result"
    }
   ],
   "source": [
    "x"
   ]
  },
  {
   "cell_type": "code",
   "execution_count": 11,
   "id": "54a46c98",
   "metadata": {},
   "outputs": [],
   "source": [
    "# 使用extend将元素添加到已经存在的列表是更好的方式"
   ]
  },
  {
   "cell_type": "markdown",
   "id": "cb507e19",
   "metadata": {},
   "source": [
    "### 切片"
   ]
  },
  {
   "cell_type": "code",
   "execution_count": 12,
   "id": "634b7ee8",
   "metadata": {},
   "outputs": [],
   "source": [
    "seq = [7, 2, 3, 7, 5, 6, 0, 1]"
   ]
  },
  {
   "cell_type": "code",
   "execution_count": 13,
   "id": "d6ce8e76",
   "metadata": {},
   "outputs": [
    {
     "data": {
      "text/plain": [
       "[2, 3, 7, 5]"
      ]
     },
     "execution_count": 13,
     "metadata": {},
     "output_type": "execute_result"
    }
   ],
   "source": [
    "seq[1:5]"
   ]
  },
  {
   "cell_type": "code",
   "execution_count": 15,
   "id": "41ac68a8",
   "metadata": {},
   "outputs": [],
   "source": [
    "# 切片还可以将序列幅值给变量\n",
    "seq[3:4] = [6, 3]"
   ]
  },
  {
   "cell_type": "code",
   "execution_count": 16,
   "id": "2bacf207",
   "metadata": {},
   "outputs": [
    {
     "data": {
      "text/plain": [
       "[7, 2, 3, 6, 3, 5, 6, 0, 1]"
      ]
     },
     "execution_count": 16,
     "metadata": {},
     "output_type": "execute_result"
    }
   ],
   "source": [
    "seq"
   ]
  },
  {
   "cell_type": "code",
   "execution_count": 17,
   "id": "667db9d3",
   "metadata": {},
   "outputs": [
    {
     "data": {
      "text/plain": [
       "[1, 0, 6, 5, 3, 6, 3, 2, 7]"
      ]
     },
     "execution_count": 17,
     "metadata": {},
     "output_type": "execute_result"
    }
   ],
   "source": [
    "# 可以对列表或者元组进行翻转\n",
    "seq[::-1]"
   ]
  },
  {
   "cell_type": "markdown",
   "id": "6cfa2375",
   "metadata": {},
   "source": [
    "### enumrate"
   ]
  },
  {
   "cell_type": "code",
   "execution_count": 18,
   "id": "f394de6c",
   "metadata": {},
   "outputs": [],
   "source": [
    "some_list = ['foo', 'bar', 'baz']"
   ]
  },
  {
   "cell_type": "code",
   "execution_count": 19,
   "id": "50879f54",
   "metadata": {},
   "outputs": [],
   "source": [
    "mapping = {}"
   ]
  },
  {
   "cell_type": "code",
   "execution_count": 20,
   "id": "f6691826",
   "metadata": {},
   "outputs": [],
   "source": [
    "for i, v in enumerate(some_list):\n",
    "    mapping[v] = i\n",
    "    "
   ]
  },
  {
   "cell_type": "code",
   "execution_count": 21,
   "id": "ba4f5ddd",
   "metadata": {},
   "outputs": [
    {
     "data": {
      "text/plain": [
       "{'foo': 0, 'bar': 1, 'baz': 2}"
      ]
     },
     "execution_count": 21,
     "metadata": {},
     "output_type": "execute_result"
    }
   ],
   "source": [
    "mapping"
   ]
  },
  {
   "cell_type": "markdown",
   "id": "cf7852d5",
   "metadata": {},
   "source": [
    "### zip"
   ]
  },
  {
   "cell_type": "code",
   "execution_count": 22,
   "id": "c82970bf",
   "metadata": {},
   "outputs": [],
   "source": [
    "seq1 = ['foo', 'bar', 'baz']"
   ]
  },
  {
   "cell_type": "code",
   "execution_count": 23,
   "id": "3904d96d",
   "metadata": {},
   "outputs": [],
   "source": [
    "seq2 = ['one', 'two', 'three']"
   ]
  },
  {
   "cell_type": "code",
   "execution_count": 24,
   "id": "619cca71",
   "metadata": {},
   "outputs": [],
   "source": [
    "zipped = zip(seq1, seq2)"
   ]
  },
  {
   "cell_type": "code",
   "execution_count": 25,
   "id": "213f9da9",
   "metadata": {},
   "outputs": [
    {
     "data": {
      "text/plain": [
       "[('foo', 'one'), ('bar', 'two'), ('baz', 'three')]"
      ]
     },
     "execution_count": 25,
     "metadata": {},
     "output_type": "execute_result"
    }
   ],
   "source": [
    "list(zipped)"
   ]
  },
  {
   "cell_type": "code",
   "execution_count": 27,
   "id": "89490a46",
   "metadata": {},
   "outputs": [],
   "source": [
    "# zip解包\n",
    "pitchers = [('Nolan', 'Ryan'), ('Roger', 'Clemens'), ('Schilling', 'Curt')]"
   ]
  },
  {
   "cell_type": "code",
   "execution_count": 28,
   "id": "189cc62b",
   "metadata": {},
   "outputs": [],
   "source": [
    "first_name, last_name = zip(*pitchers)"
   ]
  },
  {
   "cell_type": "code",
   "execution_count": 29,
   "id": "cba559d6",
   "metadata": {},
   "outputs": [
    {
     "data": {
      "text/plain": [
       "('Nolan', 'Roger', 'Schilling')"
      ]
     },
     "execution_count": 29,
     "metadata": {},
     "output_type": "execute_result"
    }
   ],
   "source": [
    "first_name"
   ]
  },
  {
   "cell_type": "code",
   "execution_count": 30,
   "id": "478280e8",
   "metadata": {},
   "outputs": [
    {
     "data": {
      "text/plain": [
       "('Ryan', 'Clemens', 'Curt')"
      ]
     },
     "execution_count": 30,
     "metadata": {},
     "output_type": "execute_result"
    }
   ],
   "source": [
    "last_name"
   ]
  },
  {
   "cell_type": "markdown",
   "id": "56605491",
   "metadata": {},
   "source": [
    "### 从列表生成字典"
   ]
  },
  {
   "cell_type": "code",
   "execution_count": 34,
   "id": "5678ea80",
   "metadata": {},
   "outputs": [],
   "source": [
    "# mapping = {}\n",
    "# for key, values in zip(key_list, values_list):\n",
    "#     mapping[key] = values"
   ]
  },
  {
   "cell_type": "markdown",
   "id": "fdf99687",
   "metadata": {},
   "source": [
    "### 集合"
   ]
  },
  {
   "cell_type": "code",
   "execution_count": 1,
   "id": "286f5a98",
   "metadata": {},
   "outputs": [
    {
     "data": {
      "text/plain": [
       "{1, 2, 3}"
      ]
     },
     "execution_count": 1,
     "metadata": {},
     "output_type": "execute_result"
    }
   ],
   "source": [
    "set([2, 2, 2, 1, 3, 3])"
   ]
  },
  {
   "cell_type": "code",
   "execution_count": 2,
   "id": "da691d1c",
   "metadata": {},
   "outputs": [
    {
     "data": {
      "text/plain": [
       "{1, 2, 3}"
      ]
     },
     "execution_count": 2,
     "metadata": {},
     "output_type": "execute_result"
    }
   ],
   "source": [
    "{2, 2, 2, 1, 3, 3}"
   ]
  },
  {
   "cell_type": "code",
   "execution_count": 3,
   "id": "bc3ca7b7",
   "metadata": {},
   "outputs": [],
   "source": [
    "a = {1, 2, 3, 4, 5}\n",
    "b = {3, 4, 5, 6, 7, 8}"
   ]
  },
  {
   "cell_type": "code",
   "execution_count": 4,
   "id": "82857c25",
   "metadata": {},
   "outputs": [
    {
     "data": {
      "text/plain": [
       "{1, 2, 3, 4, 5, 6, 7, 8}"
      ]
     },
     "execution_count": 4,
     "metadata": {},
     "output_type": "execute_result"
    }
   ],
   "source": [
    "# 并集\n",
    "a.union(b)"
   ]
  },
  {
   "cell_type": "code",
   "execution_count": 5,
   "id": "2cdf4266",
   "metadata": {},
   "outputs": [
    {
     "data": {
      "text/plain": [
       "{1, 2, 3, 4, 5, 6, 7, 8}"
      ]
     },
     "execution_count": 5,
     "metadata": {},
     "output_type": "execute_result"
    }
   ],
   "source": [
    "a | b"
   ]
  },
  {
   "cell_type": "code",
   "execution_count": 6,
   "id": "5ac9c78c",
   "metadata": {},
   "outputs": [
    {
     "data": {
      "text/plain": [
       "{3, 4, 5}"
      ]
     },
     "execution_count": 6,
     "metadata": {},
     "output_type": "execute_result"
    }
   ],
   "source": [
    "# 交集\n",
    "a.intersection(b)"
   ]
  },
  {
   "cell_type": "code",
   "execution_count": 7,
   "id": "54c561b8",
   "metadata": {},
   "outputs": [
    {
     "data": {
      "text/plain": [
       "{3, 4, 5}"
      ]
     },
     "execution_count": 7,
     "metadata": {},
     "output_type": "execute_result"
    }
   ],
   "source": [
    "a & b"
   ]
  },
  {
   "cell_type": "markdown",
   "id": "495fe84c",
   "metadata": {},
   "source": [
    "### 列表、集合和字典的推导式"
   ]
  },
  {
   "cell_type": "code",
   "execution_count": 8,
   "id": "61d5f178",
   "metadata": {},
   "outputs": [],
   "source": [
    "# expr for val in collection if condition\n",
    "strings = ['a', 'as', 'bat', 'car', 'dove', 'python']"
   ]
  },
  {
   "cell_type": "code",
   "execution_count": 9,
   "id": "073ad284",
   "metadata": {},
   "outputs": [
    {
     "data": {
      "text/plain": [
       "['BAT', 'CAR', 'DOVE', 'PYTHON']"
      ]
     },
     "execution_count": 9,
     "metadata": {},
     "output_type": "execute_result"
    }
   ],
   "source": [
    "[x.upper() for x in strings if len(x) > 2]"
   ]
  },
  {
   "cell_type": "markdown",
   "id": "40eb8153",
   "metadata": {},
   "source": [
    "### 生成器"
   ]
  },
  {
   "cell_type": "code",
   "execution_count": 2,
   "id": "b6e9d29b",
   "metadata": {},
   "outputs": [],
   "source": [
    "def squares(n = 10):  # 如需创建生成器，只需在函数中将放回关键字return替换成yield关键字\n",
    "    print('Generating squares from 1 to {0}'.format(n ** 2))\n",
    "    for i in range(1, n+1):\n",
    "        yield i ** 2"
   ]
  },
  {
   "cell_type": "code",
   "execution_count": 3,
   "id": "2f078590",
   "metadata": {},
   "outputs": [],
   "source": [
    "gen = squares()"
   ]
  },
  {
   "cell_type": "code",
   "execution_count": 4,
   "id": "2fce547a",
   "metadata": {},
   "outputs": [
    {
     "data": {
      "text/plain": [
       "<generator object squares at 0x000001E4F5C64890>"
      ]
     },
     "execution_count": 4,
     "metadata": {},
     "output_type": "execute_result"
    }
   ],
   "source": [
    "gen"
   ]
  },
  {
   "cell_type": "code",
   "execution_count": 5,
   "id": "95239560",
   "metadata": {},
   "outputs": [
    {
     "name": "stdout",
     "output_type": "stream",
     "text": [
      "Generating squares from 1 to 100\n",
      "1 4 9 16 25 36 49 64 81 100 "
     ]
    }
   ],
   "source": [
    "for i in gen:\n",
    "    print(i, end=' ')"
   ]
  },
  {
   "cell_type": "markdown",
   "id": "fe5bcdbc",
   "metadata": {},
   "source": [
    "### 文件与操作系统"
   ]
  },
  {
   "cell_type": "markdown",
   "id": "7cccdfe8",
   "metadata": {},
   "source": [
    "打开文件进行读取或写入，需要使用内建函数open和绝对、相对路径"
   ]
  },
  {
   "cell_type": "code",
   "execution_count": 1,
   "id": "d316d957",
   "metadata": {},
   "outputs": [],
   "source": [
    "path = r'C:/Users/26914/python_数据分析/examples.txt'"
   ]
  },
  {
   "cell_type": "code",
   "execution_count": 6,
   "id": "4671aa17",
   "metadata": {},
   "outputs": [],
   "source": [
    "f = open(path, encoding='utf-8')  # 文件默认是以只读模式'r'打开的。之后我们可以像处理列表一样处理文件f，并遍历f中的行内容"
   ]
  },
  {
   "cell_type": "code",
   "execution_count": 2,
   "id": "4eba3941",
   "metadata": {},
   "outputs": [],
   "source": [
    "lines = [x.strip() for x in open(path, encoding='utf-8')]"
   ]
  },
  {
   "cell_type": "code",
   "execution_count": 3,
   "id": "b100ac27",
   "metadata": {},
   "outputs": [
    {
     "data": {
      "text/plain": [
       "[\"Without you?I'd be a soul without a purpose.\",\n",
       " '',\n",
       " \"Without you?I'd be an emotion without a heart\",\n",
       " '',\n",
       " \"I'm a face without expression,A heart with no beat.\",\n",
       " '',\n",
       " \"Without you by my side,I'm just a flame without the\"]"
      ]
     },
     "execution_count": 3,
     "metadata": {},
     "output_type": "execute_result"
    }
   ],
   "source": [
    "lines"
   ]
  },
  {
   "cell_type": "markdown",
   "id": "1e707546",
   "metadata": {},
   "source": [
    "当你使用open来创建文件对象时，在结束操作时显式地关闭文件式非常重要的，关闭文件会将资源释放回操作系统"
   ]
  },
  {
   "cell_type": "code",
   "execution_count": 8,
   "id": "72c6b43d",
   "metadata": {},
   "outputs": [],
   "source": [
    "f.close()"
   ]
  },
  {
   "cell_type": "markdown",
   "id": "d8e24be7",
   "metadata": {},
   "source": [
    "另一种更简单的关闭文件的方法就是使用with语句"
   ]
  },
  {
   "cell_type": "code",
   "execution_count": 9,
   "id": "ea50152b",
   "metadata": {},
   "outputs": [],
   "source": [
    "with open(path,encoding='utf-8') as f:\n",
    "    lines = [x.strip() for x in f]"
   ]
  },
  {
   "cell_type": "code",
   "execution_count": 10,
   "id": "0657d425",
   "metadata": {},
   "outputs": [
    {
     "data": {
      "text/plain": [
       "[\"Without you?I'd be a soul without a purpose.\",\n",
       " '',\n",
       " \"Without you?I'd be an emotion without a heart\",\n",
       " '',\n",
       " \"I'm a face without expression,A heart with no beat.\",\n",
       " '',\n",
       " \"Without you by my side,I'm just a flame without the\"]"
      ]
     },
     "execution_count": 10,
     "metadata": {},
     "output_type": "execute_result"
    }
   ],
   "source": [
    "lines"
   ]
  },
  {
   "cell_type": "markdown",
   "id": "720a59fe",
   "metadata": {},
   "source": [
    "使用with语句结束后文件回自动关闭"
   ]
  },
  {
   "cell_type": "markdown",
   "id": "7baba250",
   "metadata": {},
   "source": [
    "使用sys模块来检测文件的默认编码"
   ]
  },
  {
   "cell_type": "code",
   "execution_count": 11,
   "id": "284ef018",
   "metadata": {},
   "outputs": [],
   "source": [
    "import sys"
   ]
  },
  {
   "cell_type": "code",
   "execution_count": 12,
   "id": "83ee6918",
   "metadata": {},
   "outputs": [
    {
     "data": {
      "text/plain": [
       "'utf-8'"
      ]
     },
     "execution_count": 12,
     "metadata": {},
     "output_type": "execute_result"
    }
   ],
   "source": [
    "sys.getdefaultencoding()"
   ]
  },
  {
   "cell_type": "markdown",
   "id": "e32dd9df",
   "metadata": {},
   "source": [
    "使用write或者writelines"
   ]
  },
  {
   "cell_type": "code",
   "execution_count": 13,
   "id": "5c144f61",
   "metadata": {},
   "outputs": [],
   "source": [
    "with open('tmp.txt', 'w') as handle:\n",
    "    handle.writelines(x for x in open(path, encoding='utf-8') if len(x) > 1)"
   ]
  },
  {
   "cell_type": "code",
   "execution_count": 18,
   "id": "66a4d8a8",
   "metadata": {},
   "outputs": [],
   "source": [
    "with open('tmp.txt') as f:\n",
    "    lines = f.readlines()"
   ]
  },
  {
   "cell_type": "code",
   "execution_count": 19,
   "id": "a4397315",
   "metadata": {},
   "outputs": [
    {
     "data": {
      "text/plain": [
       "[\"Without you?I'd be a soul without a purpose.\\n\",\n",
       " \"\\u3000\\u3000Without you?I'd be an emotion without a heart\\n\",\n",
       " \"\\u3000\\u3000I'm a face without expression,A heart with no beat.\\n\",\n",
       " \"\\u3000\\u3000Without you by my side,I'm just a flame without the\"]"
      ]
     },
     "execution_count": 19,
     "metadata": {},
     "output_type": "execute_result"
    }
   ],
   "source": [
    "lines"
   ]
  },
  {
   "cell_type": "code",
   "execution_count": null,
   "id": "b84029eb",
   "metadata": {},
   "outputs": [],
   "source": []
  }
 ],
 "metadata": {
  "kernelspec": {
   "display_name": "Python 3",
   "language": "python",
   "name": "python3"
  },
  "language_info": {
   "codemirror_mode": {
    "name": "ipython",
    "version": 3
   },
   "file_extension": ".py",
   "mimetype": "text/x-python",
   "name": "python",
   "nbconvert_exporter": "python",
   "pygments_lexer": "ipython3",
   "version": "3.8.8"
  }
 },
 "nbformat": 4,
 "nbformat_minor": 5
}
